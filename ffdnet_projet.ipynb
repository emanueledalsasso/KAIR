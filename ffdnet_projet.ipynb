{
 "nbformat": 4,
 "nbformat_minor": 0,
 "metadata": {
  "kernelspec": {
   "display_name": "Python 3",
   "language": "python",
   "name": "python3"
  },
  "language_info": {
   "codemirror_mode": {
    "name": "ipython",
    "version": 2
   },
   "file_extension": ".py",
   "mimetype": "text/x-python",
   "name": "python",
   "nbconvert_exporter": "python",
   "pygments_lexer": "ipython2",
   "version": "2.7.6"
  },
  "colab": {
   "name": "ffdnet_projet.ipynb",
   "provenance": [],
   "toc_visible": true,
   "include_colab_link": true
  },
  "accelerator": "GPU"
 },
 "cells": [
  {
   "cell_type": "markdown",
   "metadata": {
    "id": "view-in-github",
    "colab_type": "text"
   },
   "source": [
    "<a href=\"https://colab.research.google.com/github/emanueledalsasso/KAIR/blob/master/ffdnet_projet.ipynb\" target=\"_parent\"><img src=\"https://colab.research.google.com/assets/colab-badge.svg\" alt=\"Open In Colab\"/></a>"
   ]
  },
  {
   "cell_type": "markdown",
   "metadata": {
    "collapsed": false,
    "id": "3rfKGPGv7Gq0",
    "colab_type": "text"
   },
   "source": [
    "# 0. Imports"
   ]
  },
  {
   "cell_type": "code",
   "metadata": {
    "pycharm": {
     "name": "#%%\n"
    },
    "id": "soYzFIy57Gq4",
    "colab_type": "code",
    "colab": {}
   },
   "source": [
    "from google.colab import drive\n",
    "import os, glob\n",
    "import numpy as np\n",
    "import matplotlib.pyplot as plt\n",
    "from PIL import Image\n",
    "from glob import glob\n",
    "from skimage.metrics import structural_similarity as ssim\n",
    "import cv2\n"
   ],
   "execution_count": 0,
   "outputs": []
  },
  {
   "cell_type": "code",
   "metadata": {
    "pycharm": {
     "name": "#%%\n"
    },
    "id": "yvktZTbX7Grh",
    "colab_type": "code",
    "colab": {
     "base_uri": "https://localhost:8080/",
     "height": 124
    },
    "outputId": "1d193878-eec5-4f04-985e-8e1e71bcb45e"
   },
   "source": [
    "drive.mount('Drive')"
   ],
   "execution_count": 2,
   "outputs": [
    {
     "output_type": "stream",
     "text": [
      "Go to this URL in a browser: https://accounts.google.com/o/oauth2/auth?client_id=947318989803-6bn6qk8qdgf4n4g3pfee6491hc0brc4i.apps.googleusercontent.com&redirect_uri=urn%3aietf%3awg%3aoauth%3a2.0%3aoob&response_type=code&scope=email%20https%3a%2f%2fwww.googleapis.com%2fauth%2fdocs.test%20https%3a%2f%2fwww.googleapis.com%2fauth%2fdrive%20https%3a%2f%2fwww.googleapis.com%2fauth%2fdrive.photos.readonly%20https%3a%2f%2fwww.googleapis.com%2fauth%2fpeopleapi.readonly\n",
      "\n",
      "Enter your authorization code:\n",
      "··········\n",
      "Mounted at Drive\n"
     ],
     "name": "stdout"
    }
   ]
  },
  {
   "cell_type": "markdown",
   "metadata": {
    "collapsed": false,
    "id": "aFWqlcSH7Grz",
    "colab_type": "text"
   },
   "source": [
    "# 1. Run a test"
   ]
  },
  {
   "cell_type": "code",
   "metadata": {
    "pycharm": {
     "name": "#%%\n"
    },
    "id": "4INXz3I77Gr2",
    "colab_type": "code",
    "colab": {
     "base_uri": "https://localhost:8080/",
     "height": 139
    },
    "outputId": "2a1f237a-fcf8-4599-f8d4-d2b1e12410af"
   },
   "source": [
    "! git clone https://github.com/emanueledalsasso/KAIR.git"
   ],
   "execution_count": 5,
   "outputs": [
    {
     "output_type": "stream",
     "text": [
      "Cloning into 'KAIR'...\n",
      "remote: Enumerating objects: 187, done.\u001B[K\n",
      "remote: Counting objects: 100% (187/187), done.\u001B[K\n",
      "remote: Compressing objects: 100% (172/172), done.\u001B[K\n",
      "remote: Total 287 (delta 100), reused 13 (delta 5), pack-reused 100\u001B[K\n",
      "Receiving objects: 100% (287/287), 5.21 MiB | 4.10 MiB/s, done.\n",
      "Resolving deltas: 100% (142/142), done.\n"
     ],
     "name": "stdout"
    }
   ]
  },
  {
   "cell_type": "code",
   "execution_count": null,
   "outputs": [],
   "source": [
    "# Move the useful files in content\n",
    "! mv \"./KAIR/data\" \"./data\"\n",
    "! mv \"./KAIR/model_zoo\" \"./model_zoo\"\n",
    "! mv \"./KAIR/models\" \"./models\"\n",
    "! mv \"./KAIR/options\" \"./options\"\n",
    "! mv \"./KAIR/results\" \"./results\"\n",
    "! mv \"./KAIR/utils\" \"./utils\"\n",
    "! mv \"./KAIR/testsets\" \"./testsets\"\n",
    "! mv \"./KAIR/trainsets\" \"./trainsets\"\n",
    "! mv \"./KAIR/main_train_ffdnet.py\" \"./main_train_ffdnet.py\"\n",
    "! mv \"./KAIR/main_test_ffdnet.py\" \"./main_test_ffdnet.py\"\n",
    "! rm -rf KAIR"
   ],
   "metadata": {
    "collapsed": false,
    "pycharm": {
     "name": "#%%\n"
    }
   }
  },
  {
   "cell_type": "code",
   "execution_count": null,
   "outputs": [],
   "source": [
    "! python main_test_ffdnet.py"
   ],
   "metadata": {
    "collapsed": false,
    "pycharm": {
     "name": "#%%\n"
    }
   }
  },
  {
   "cell_type": "code",
   "metadata": {
    "id": "foGPEOUD8Jhn",
    "colab_type": "code",
    "colab": {}
   },
   "source": [
    "# 2. Training"
   ],
   "execution_count": 0,
   "outputs": []
  },
  {
   "cell_type": "code",
   "metadata": {
    "id": "WJXlapuv9PMs",
    "colab_type": "code",
    "colab": {
     "base_uri": "https://localhost:8080/",
     "height": 121
    },
    "outputId": "af11d397-394d-4699-8242-1187e7e4a638"
   },
   "source": [
    "! python main_test_ffdnet.py"
   ],
   "execution_count": 10,
   "outputs": [
    {
     "output_type": "stream",
     "text": [
      "LogHandlers setup!\n",
      "20-05-18 13:29:12.042 : Model path: model_zoo/ffdnet_gray.pth\n",
      "20-05-18 13:29:12.043 : model_name:ffdnet_gray, model sigma:15, image sigma:15\n",
      "20-05-18 13:29:12.043 : testsets/bsd68\n",
      "20-05-18 13:29:12.399 : 01.png - PSNR: 32.37 dB; SSIM: 0.9118.\n",
      "20-05-18 13:29:12.410 : Average PSNR/SSIM(RGB) - bsd68_ffdnet_gray - PSNR: 32.37 dB; SSIM: 0.9118\n"
     ],
     "name": "stdout"
    }
   ]
  },
  {
   "cell_type": "markdown",
   "metadata": {
    "id": "uEIzz3fK5f-g",
    "colab_type": "text"
   },
   "source": [
    "# 2. Training"
   ]
  },
  {
   "cell_type": "code",
   "metadata": {
    "id": "pqjfDSGE5ELw",
    "colab_type": "code",
    "colab": {}
   },
   "source": [
    "! mkdir /content/Drive/My\\ Drive/ffdnetmodel/"
   ],
   "execution_count": 0,
   "outputs": []
  }
 ]
}