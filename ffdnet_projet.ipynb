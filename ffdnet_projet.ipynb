{
  "nbformat": 4,
  "nbformat_minor": 0,
  "metadata": {
    "kernelspec": {
      "display_name": "Python 3",
      "language": "python",
      "name": "python3"
    },
    "language_info": {
      "codemirror_mode": {
        "name": "ipython",
        "version": 2
      },
      "file_extension": ".py",
      "mimetype": "text/x-python",
      "name": "python",
      "nbconvert_exporter": "python",
      "pygments_lexer": "ipython2",
      "version": "2.7.6"
    },
    "colab": {
      "name": "ffdnet_projet.ipynb",
      "provenance": [],
      "toc_visible": true,
      "include_colab_link": true
    },
    "accelerator": "GPU"
  },
  "cells": [
    {
      "cell_type": "markdown",
      "metadata": {
        "id": "view-in-github",
        "colab_type": "text"
      },
      "source": [
        "<a href=\"https://colab.research.google.com/github/emanueledalsasso/KAIR/blob/master/ffdnet_projet.ipynb\" target=\"_parent\"><img src=\"https://colab.research.google.com/assets/colab-badge.svg\" alt=\"Open In Colab\"/></a>"
      ]
    },
    {
      "cell_type": "markdown",
      "metadata": {
        "collapsed": false,
        "id": "3rfKGPGv7Gq0",
        "colab_type": "text"
      },
      "source": [
        "# 0. Imports"
      ]
    },
    {
      "cell_type": "code",
      "metadata": {
        "pycharm": {
          "name": "#%%\n"
        },
        "id": "soYzFIy57Gq4",
        "colab_type": "code",
        "colab": {}
      },
      "source": [
        "from google.colab import drive\n",
        "import os, glob\n",
        "import numpy as np\n",
        "import matplotlib.pyplot as plt\n",
        "from PIL import Image\n",
        "from glob import glob\n",
        "from skimage.metrics import structural_similarity as ssim\n",
        "import cv2\n"
      ],
      "execution_count": 0,
      "outputs": []
    },
    {
      "cell_type": "code",
      "metadata": {
        "pycharm": {
          "name": "#%%\n"
        },
        "id": "yvktZTbX7Grh",
        "colab_type": "code",
        "outputId": "44133976-e633-4347-f4a2-0f6288a8f13a",
        "colab": {
          "base_uri": "https://localhost:8080/",
          "height": 124
        }
      },
      "source": [
        "drive.mount('Drive')"
      ],
      "execution_count": 2,
      "outputs": [
        {
          "output_type": "stream",
          "text": [
            "Go to this URL in a browser: https://accounts.google.com/o/oauth2/auth?client_id=947318989803-6bn6qk8qdgf4n4g3pfee6491hc0brc4i.apps.googleusercontent.com&redirect_uri=urn%3aietf%3awg%3aoauth%3a2.0%3aoob&response_type=code&scope=email%20https%3a%2f%2fwww.googleapis.com%2fauth%2fdocs.test%20https%3a%2f%2fwww.googleapis.com%2fauth%2fdrive%20https%3a%2f%2fwww.googleapis.com%2fauth%2fdrive.photos.readonly%20https%3a%2f%2fwww.googleapis.com%2fauth%2fpeopleapi.readonly\n",
            "\n",
            "Enter your authorization code:\n",
            "··········\n",
            "Mounted at Drive\n"
          ],
          "name": "stdout"
        }
      ]
    },
    {
      "cell_type": "markdown",
      "metadata": {
        "collapsed": false,
        "id": "aFWqlcSH7Grz",
        "colab_type": "text"
      },
      "source": [
        "# 1. Run a test"
      ]
    },
    {
      "cell_type": "code",
      "metadata": {
        "pycharm": {
          "name": "#%%\n"
        },
        "id": "4INXz3I77Gr2",
        "colab_type": "code",
        "outputId": "5ae64bad-b576-44a0-f323-b739d3436b46",
        "colab": {
          "base_uri": "https://localhost:8080/",
          "height": 139
        }
      },
      "source": [
        "! git clone https://github.com/emanueledalsasso/KAIR.git"
      ],
      "execution_count": 3,
      "outputs": [
        {
          "output_type": "stream",
          "text": [
            "Cloning into 'KAIR'...\n",
            "remote: Enumerating objects: 207, done.\u001b[K\n",
            "remote: Counting objects: 100% (207/207), done.\u001b[K\n",
            "remote: Compressing objects: 100% (188/188), done.\u001b[K\n",
            "remote: Total 307 (delta 105), reused 32 (delta 8), pack-reused 100\u001b[K\n",
            "Receiving objects: 100% (307/307), 20.63 MiB | 8.16 MiB/s, done.\n",
            "Resolving deltas: 100% (147/147), done.\n"
          ],
          "name": "stdout"
        }
      ]
    },
    {
      "cell_type": "code",
      "metadata": {
        "pycharm": {
          "name": "#%%\n"
        },
        "id": "T5PLwMraCmkZ",
        "colab_type": "code",
        "colab": {}
      },
      "source": [
        "# Move the useful files in content\n",
        "! mv \"./KAIR/data\" \"./data\"\n",
        "! mv \"./KAIR/model_zoo\" \"./model_zoo\"\n",
        "! mv \"./KAIR/models\" \"./models\"\n",
        "! mv \"./KAIR/options\" \"./options\"\n",
        "! mv \"./KAIR/results\" \"./results\"\n",
        "! mv \"./KAIR/utils\" \"./utils\"\n",
        "! mv \"./KAIR/testsets\" \"./testsets\"\n",
        "! mv \"./KAIR/trainsets\" \"./trainsets\"\n",
        "! mv \"./KAIR/main_train_ffdnet.py\" \"./main_train_ffdnet.py\"\n",
        "! mv \"./KAIR/main_test_ffdnet.py\" \"./main_test_ffdnet.py\"\n",
        "! rm -rf KAIR"
      ],
      "execution_count": 0,
      "outputs": []
    },
    {
      "cell_type": "markdown",
      "metadata": {
        "id": "CRKXv5aYDHex",
        "colab_type": "text"
      },
      "source": [
        "Images are picked from */content/testsets/bsd68* and the denoised results (by default, sigma is set to 15) are stored in */content/results/bsd68_ffdnet_gray*"
      ]
    },
    {
      "cell_type": "code",
      "metadata": {
        "pycharm": {
          "name": "#%%\n"
        },
        "id": "coS5i4EQCmkh",
        "colab_type": "code",
        "colab": {
          "base_uri": "https://localhost:8080/",
          "height": 121
        },
        "outputId": "8a3d08b4-973b-4232-cde5-e9a4e2ae82ec"
      },
      "source": [
        "! python main_test_ffdnet.py"
      ],
      "execution_count": 5,
      "outputs": [
        {
          "output_type": "stream",
          "text": [
            "LogHandlers setup!\n",
            "20-05-18 13:50:09.578 : Model path: model_zoo/ffdnet_gray.pth\n",
            "20-05-18 13:50:09.579 : model_name:ffdnet_gray, model sigma:15, image sigma:15\n",
            "20-05-18 13:50:09.579 : testsets/bsd68\n",
            "20-05-18 13:50:09.967 : 01.png - PSNR: 32.37 dB; SSIM: 0.9118.\n",
            "20-05-18 13:50:09.978 : Average PSNR/SSIM(RGB) - bsd68_ffdnet_gray - PSNR: 32.37 dB; SSIM: 0.9118\n"
          ],
          "name": "stdout"
        }
      ]
    },
    {
      "cell_type": "markdown",
      "metadata": {
        "id": "uEIzz3fK5f-g",
        "colab_type": "text"
      },
      "source": [
        "# 2. Training"
      ]
    },
    {
      "cell_type": "code",
      "metadata": {
        "id": "pqjfDSGE5ELw",
        "colab_type": "code",
        "colab": {
          "base_uri": "https://localhost:8080/",
          "height": 34
        },
        "outputId": "7d2518b4-2759-4705-d0db-4224921878d5"
      },
      "source": [
        "! mkdir /content/Drive/My\\ Drive/ffdnetmodel/ #network weights are stored here"
      ],
      "execution_count": 6,
      "outputs": [
        {
          "output_type": "stream",
          "text": [
            "mkdir: cannot create directory ‘/content/Drive/My Drive/ffdnetmodel/’: File exists\n"
          ],
          "name": "stdout"
        }
      ]
    },
    {
      "cell_type": "markdown",
      "metadata": {
        "id": "4yK5CKAUDlNz",
        "colab_type": "text"
      },
      "source": [
        "If connectin is lost, the stored weights can be copied from */content/Drive/My\\ Drive/ffdnetmodel/* to */content/model_zoo*"
      ]
    },
    {
      "cell_type": "code",
      "metadata": {
        "id": "d4MeCrCIDCT8",
        "colab_type": "code",
        "colab": {
          "base_uri": "https://localhost:8080/",
          "height": 1000
        },
        "outputId": "69897657-b61e-4c57-f654-3d4e163da008"
      },
      "source": [
        "! python main_train_ffdnet.py"
      ],
      "execution_count": 0,
      "outputs": [
        {
          "output_type": "stream",
          "text": [
            "export CUDA_VISIBLE_DEVICES=0\n",
            "LogHandlers setup!\n",
            "20-05-18 13:53:04.972 :   task: ffdnet\n",
            "  model: plain2\n",
            "  gpu_ids: [0]\n",
            "  scale: 1\n",
            "  n_channels: 1\n",
            "  sigma: [0, 75]\n",
            "  sigma_test: 25\n",
            "  merge_bn: False\n",
            "  merge_bn_startpoint: 400000\n",
            "  path:[\n",
            "    root: denoising\n",
            "    pretrained_netG: None\n",
            "    task: denoising/ffdnet\n",
            "    log: denoising/ffdnet\n",
            "    options: denoising/ffdnet/options\n",
            "    models: denoising/ffdnet/models\n",
            "    images: denoising/ffdnet/images\n",
            "  ]\n",
            "  datasets:[\n",
            "    train:[\n",
            "      name: train_dataset\n",
            "      dataset_type: ffdnet\n",
            "      dataroot_H: trainsets/trainH\n",
            "      dataroot_L: None\n",
            "      H_size: 64\n",
            "      dataloader_shuffle: True\n",
            "      dataloader_num_workers: 8\n",
            "      dataloader_batch_size: 64\n",
            "      phase: train\n",
            "      scale: 1\n",
            "      n_channels: 1\n",
            "    ]\n",
            "    test:[\n",
            "      name: test_dataset\n",
            "      dataset_type: ffdnet\n",
            "      dataroot_H: testsets/bsd68\n",
            "      dataroot_L: None\n",
            "      phase: test\n",
            "      scale: 1\n",
            "      n_channels: 1\n",
            "    ]\n",
            "  ]\n",
            "  netG:[\n",
            "    net_type: ffdnet\n",
            "    in_nc: 1\n",
            "    out_nc: 1\n",
            "    nc: 64\n",
            "    nb: 15\n",
            "    gc: 32\n",
            "    ng: 2\n",
            "    reduction: 16\n",
            "    act_mode: R\n",
            "    upsample_mode: convtranspose\n",
            "    downsample_mode: strideconv\n",
            "    init_type: orthogonal\n",
            "    init_bn_type: uniform\n",
            "    init_gain: 0.2\n",
            "    scale: 1\n",
            "  ]\n",
            "  train:[\n",
            "    G_lossfn_type: l1\n",
            "    G_lossfn_weight: 1.0\n",
            "    G_optimizer_type: adam\n",
            "    G_optimizer_lr: 0.0001\n",
            "    G_optimizer_clipgrad: None\n",
            "    G_scheduler_type: MultiStepLR\n",
            "    G_scheduler_milestones: [200000, 400000, 600000, 800000, 1000000, 2000000]\n",
            "    G_scheduler_gamma: 0.5\n",
            "    G_regularizer_orthstep: None\n",
            "    G_regularizer_clipstep: None\n",
            "    checkpoint_test: 5000\n",
            "    checkpoint_save: 5000\n",
            "    checkpoint_print: 200\n",
            "  ]\n",
            "  opt_path: options/train_ffdnet.json\n",
            "  is_train: True\n",
            "\n",
            "20-05-18 13:53:04.973 : Random seed: 1550\n",
            "Dataset [DatasetFFDNet - train_dataset] is created.\n",
            "20-05-18 13:53:04.976 : Number of train images: 7, iters: 1\n",
            "Dataset [DatasetFFDNet - test_dataset] is created.\n",
            "Initialization method [orthogonal + uniform], gain is [0.20]\n",
            "Training model [ModelPlain2] is created.\n",
            "20-05-18 13:53:09.129 : \n",
            "Networks name: FFDNet\n",
            "Params number: 485316\n",
            "Net structure:\n",
            "FFDNet(\n",
            "  (m_down): PixelUnShuffle(upscale_factor=2)\n",
            "  (model): Sequential(\n",
            "    (0): Conv2d(5, 64, kernel_size=(3, 3), stride=(1, 1), padding=(1, 1))\n",
            "    (1): ReLU(inplace=True)\n",
            "    (2): Conv2d(64, 64, kernel_size=(3, 3), stride=(1, 1), padding=(1, 1))\n",
            "    (3): ReLU(inplace=True)\n",
            "    (4): Conv2d(64, 64, kernel_size=(3, 3), stride=(1, 1), padding=(1, 1))\n",
            "    (5): ReLU(inplace=True)\n",
            "    (6): Conv2d(64, 64, kernel_size=(3, 3), stride=(1, 1), padding=(1, 1))\n",
            "    (7): ReLU(inplace=True)\n",
            "    (8): Conv2d(64, 64, kernel_size=(3, 3), stride=(1, 1), padding=(1, 1))\n",
            "    (9): ReLU(inplace=True)\n",
            "    (10): Conv2d(64, 64, kernel_size=(3, 3), stride=(1, 1), padding=(1, 1))\n",
            "    (11): ReLU(inplace=True)\n",
            "    (12): Conv2d(64, 64, kernel_size=(3, 3), stride=(1, 1), padding=(1, 1))\n",
            "    (13): ReLU(inplace=True)\n",
            "    (14): Conv2d(64, 64, kernel_size=(3, 3), stride=(1, 1), padding=(1, 1))\n",
            "    (15): ReLU(inplace=True)\n",
            "    (16): Conv2d(64, 64, kernel_size=(3, 3), stride=(1, 1), padding=(1, 1))\n",
            "    (17): ReLU(inplace=True)\n",
            "    (18): Conv2d(64, 64, kernel_size=(3, 3), stride=(1, 1), padding=(1, 1))\n",
            "    (19): ReLU(inplace=True)\n",
            "    (20): Conv2d(64, 64, kernel_size=(3, 3), stride=(1, 1), padding=(1, 1))\n",
            "    (21): ReLU(inplace=True)\n",
            "    (22): Conv2d(64, 64, kernel_size=(3, 3), stride=(1, 1), padding=(1, 1))\n",
            "    (23): ReLU(inplace=True)\n",
            "    (24): Conv2d(64, 64, kernel_size=(3, 3), stride=(1, 1), padding=(1, 1))\n",
            "    (25): ReLU(inplace=True)\n",
            "    (26): Conv2d(64, 64, kernel_size=(3, 3), stride=(1, 1), padding=(1, 1))\n",
            "    (27): ReLU(inplace=True)\n",
            "    (28): Conv2d(64, 4, kernel_size=(3, 3), stride=(1, 1), padding=(1, 1))\n",
            "  )\n",
            "  (m_up): PixelShuffle(upscale_factor=2)\n",
            ")\n",
            "\n",
            "20-05-18 13:53:09.142 : \n",
            " |  mean  |  min   |  max   |  std   || param_name          \n",
            " | -0.000 | -0.091 |  0.083 |  0.025 || model.0.weight\n",
            " |  0.000 |  0.000 |  0.000 |  0.000 || model.0.bias\n",
            " | -0.000 | -0.034 |  0.035 |  0.008 || model.2.weight\n",
            " |  0.000 |  0.000 |  0.000 |  0.000 || model.2.bias\n",
            " | -0.000 | -0.031 |  0.034 |  0.008 || model.4.weight\n",
            " |  0.000 |  0.000 |  0.000 |  0.000 || model.4.bias\n",
            " |  0.000 | -0.035 |  0.034 |  0.008 || model.6.weight\n",
            " |  0.000 |  0.000 |  0.000 |  0.000 || model.6.bias\n",
            " | -0.000 | -0.033 |  0.039 |  0.008 || model.8.weight\n",
            " |  0.000 |  0.000 |  0.000 |  0.000 || model.8.bias\n",
            " |  0.000 | -0.033 |  0.032 |  0.008 || model.10.weight\n",
            " |  0.000 |  0.000 |  0.000 |  0.000 || model.10.bias\n",
            " |  0.000 | -0.031 |  0.032 |  0.008 || model.12.weight\n",
            " |  0.000 |  0.000 |  0.000 |  0.000 || model.12.bias\n",
            " | -0.000 | -0.035 |  0.035 |  0.008 || model.14.weight\n",
            " |  0.000 |  0.000 |  0.000 |  0.000 || model.14.bias\n",
            " |  0.000 | -0.032 |  0.035 |  0.008 || model.16.weight\n",
            " |  0.000 |  0.000 |  0.000 |  0.000 || model.16.bias\n",
            " |  0.000 | -0.032 |  0.034 |  0.008 || model.18.weight\n",
            " |  0.000 |  0.000 |  0.000 |  0.000 || model.18.bias\n",
            " |  0.000 | -0.034 |  0.036 |  0.008 || model.20.weight\n",
            " |  0.000 |  0.000 |  0.000 |  0.000 || model.20.bias\n",
            " | -0.000 | -0.031 |  0.034 |  0.008 || model.22.weight\n",
            " |  0.000 |  0.000 |  0.000 |  0.000 || model.22.bias\n",
            " | -0.000 | -0.034 |  0.033 |  0.008 || model.24.weight\n",
            " |  0.000 |  0.000 |  0.000 |  0.000 || model.24.bias\n",
            " |  0.000 | -0.034 |  0.035 |  0.008 || model.26.weight\n",
            " |  0.000 |  0.000 |  0.000 |  0.000 || model.26.bias\n",
            " |  0.000 | -0.029 |  0.029 |  0.008 || model.28.weight\n",
            " |  0.000 |  0.000 |  0.000 |  0.000 || model.28.bias\n",
            "\n"
          ],
          "name": "stdout"
        }
      ]
    },
    {
      "cell_type": "code",
      "metadata": {
        "id": "5jnknBp7Dyho",
        "colab_type": "code",
        "colab": {}
      },
      "source": [
        ""
      ],
      "execution_count": 0,
      "outputs": []
    }
  ]
}